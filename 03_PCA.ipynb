{
  "nbformat": 4,
  "nbformat_minor": 0,
  "metadata": {
    "colab": {
      "provenance": [],
      "authorship_tag": "ABX9TyPzd0m+wjIkxSoWsZyYaxEc",
      "include_colab_link": true
    },
    "kernelspec": {
      "name": "python3",
      "display_name": "Python 3"
    },
    "language_info": {
      "name": "python"
    }
  },
  "cells": [
    {
      "cell_type": "markdown",
      "metadata": {
        "id": "view-in-github",
        "colab_type": "text"
      },
      "source": [
        "<a href=\"https://colab.research.google.com/github/SeoyoungOhMe/BiometricsSecurity/blob/main/03_PCA.ipynb\" target=\"_parent\"><img src=\"https://colab.research.google.com/assets/colab-badge.svg\" alt=\"Open In Colab\"/></a>"
      ]
    },
    {
      "cell_type": "code",
      "execution_count": 1,
      "metadata": {
        "id": "ekFjwn3WF3gb"
      },
      "outputs": [],
      "source": [
        "import os\n",
        "import cv2\n",
        "from tqdm.notebook import tqdm\n",
        "\n",
        "import numpy as np\n",
        "import pandas as pd\n",
        "import matplotlib.pyplot as plt"
      ]
    },
    {
      "cell_type": "code",
      "source": [
        "np_data = np.array([\n",
        "    [170, 70],\n",
        "    [150, 45],\n",
        "    [160, 55],\n",
        "    [170, 60],\n",
        "    [178, 80],\n",
        "], dtype=float)\n",
        "\n",
        "print(np_data)\n",
        "\n",
        "df = pd.DataFrame(np_data, columns=['height', 'weight'])\n",
        "df.plot.scatter(x='weight', y='height')"
      ],
      "metadata": {
        "colab": {
          "base_uri": "https://localhost:8080/",
          "height": 556
        },
        "id": "apiktILCGYjS",
        "outputId": "58cbc644-bace-463c-edd7-729ccb89f6c4"
      },
      "execution_count": 4,
      "outputs": [
        {
          "output_type": "stream",
          "name": "stdout",
          "text": [
            "[[170.  70.]\n",
            " [150.  45.]\n",
            " [160.  55.]\n",
            " [170.  60.]\n",
            " [178.  80.]]\n"
          ]
        },
        {
          "output_type": "execute_result",
          "data": {
            "text/plain": [
              "<Axes: xlabel='weight', ylabel='height'>"
            ]
          },
          "metadata": {},
          "execution_count": 4
        },
        {
          "output_type": "display_data",
          "data": {
            "text/plain": [
              "<Figure size 640x480 with 1 Axes>"
            ],
            "image/png": "[encoded data removed]"
          },
          "metadata": {}
        }
      ]
    },
    {
      "cell_type": "code",
      "source": [
        "print(np_data.shape) # 5명, feature: 2개 --> (5, 2)\n",
        "\n",
        "mean_height = np_data[:, 0].mean()\n",
        "mean_weight = np_data[:, 1].mean()\n",
        "print(mean_height, mean_weight)\n",
        "\n",
        "print(np_data.mean(axis=0))\n",
        "print(np_data.mean(axis=1))"
      ],
      "metadata": {
        "colab": {
          "base_uri": "https://localhost:8080/"
        },
        "id": "c39dFwujHHOT",
        "outputId": "bde0ae8b-61a7-469c-da19-21c7620bcc86"
      },
      "execution_count": 9,
      "outputs": [
        {
          "output_type": "stream",
          "name": "stdout",
          "text": [
            "(5, 2)\n",
            "165.6 62.0\n",
            "[165.6  62. ]\n",
            "[120.   97.5 107.5 115.  129. ]\n"
          ]
        }
      ]
    },
    {
      "cell_type": "code",
      "source": [
        "X = np_data - np_data.mean(axis=0)\n",
        "X\n",
        "\n",
        "df = pd.DataFrame(X, columns=['height', 'weight'])\n",
        "df.plot.scatter(x='weight', y='height')\n",
        "df"
      ],
      "metadata": {
        "colab": {
          "base_uri": "https://localhost:8080/",
          "height": 638
        },
        "id": "Sq9zcVxwHz5Z",
        "outputId": "a6ed7ecb-d193-4c72-f714-24225f85f2f2"
      },
      "execution_count": 13,
      "outputs": [
        {
          "output_type": "execute_result",
          "data": {
            "text/plain": [
              "   height  weight\n",
              "0     4.4     8.0\n",
              "1   -15.6   -17.0\n",
              "2    -5.6    -7.0\n",
              "3     4.4    -2.0\n",
              "4    12.4    18.0"
            ],
            "text/html": [
              "\n",
              "  <div id=\"df-96b5c3c1-dc30-482c-a827-f0ed39fe2c7e\" class=\"colab-df-container\">\n",
              "    <div>\n",
              "<style scoped>\n",
              "    .dataframe tbody tr th:only-of-type {\n",
              "        vertical-align: middle;\n",
              "    }\n",
              "\n",
              "    .dataframe tbody tr th {\n",
              "        vertical-align: top;\n",
              "    }\n",
              "\n",
              "    .dataframe thead th {\n",
              "        text-align: right;\n",
              "    }\n",
              "</style>\n",
              "<table border=\"1\" class=\"dataframe\">\n",
              "  <thead>\n",
              "    <tr style=\"text-align: right;\">\n",
              "      <th></th>\n",
              "      <th>height</th>\n",
              "      <th>weight</th>\n",
              "    </tr>\n",
              "  </thead>\n",
              "  <tbody>\n",
              "    <tr>\n",
              "      <th>0</th>\n",
              "      <td>4.4</td>\n",
              "      <td>8.0</td>\n",
              "    </tr>\n",
              "    <tr>\n",
              "      <th>1</th>\n",
              "      <td>-15.6</td>\n",
              "      <td>-17.0</td>\n",
              "    </tr>\n",
              "    <tr>\n",
              "      <th>2</th>\n",
              "      <td>-5.6</td>\n",
              "      <td>-7.0</td>\n",
              "    </tr>\n",
              "    <tr>\n",
              "      <th>3</th>\n",
              "      <td>4.4</td>\n",
              "      <td>-2.0</td>\n",
              "    </tr>\n",
              "    <tr>\n",
              "      <th>4</th>\n",
              "      <td>12.4</td>\n",
              "      <td>18.0</td>\n",
              "    </tr>\n",
              "  </tbody>\n",
              "</table>\n",
              "</div>\n",
              "    <div class=\"colab-df-buttons\">\n",
              "\n",
              "  <div class=\"colab-df-container\">\n",
              "    <button class=\"colab-df-convert\" onclick=\"convertToInteractive('df-96b5c3c1-dc30-482c-a827-f0ed39fe2c7e')\"\n",
              "            title=\"Convert this dataframe to an interactive table.\"\n",
              "            style=\"display:none;\">\n",
              "\n",
              "  <svg xmlns=\"http://www.w3.org/2000/svg\" height=\"24px\" viewBox=\"0 -960 960 960\">\n",
              "    <path d=\"M120-120v-720h720v720H120Zm60-500h600v-160H180v160Zm220 220h160v-160H400v160Zm0 220h160v-160H400v160ZM180-400h160v-160H180v160Zm440 0h160v-160H620v160ZM180-180h160v-160H180v160Zm440 0h160v-160H620v160Z\"/>\n",
              "  </svg>\n",
              "    </button>\n",
              "\n",
              "  <style>\n",
              "    .colab-df-container {\n",
              "      display:flex;\n",
              "      gap: 12px;\n",
              "    }\n",
              "\n",
              "    .colab-df-convert {\n",
              "      background-color: #E8F0FE;\n",
              "      border: none;\n",
              "      border-radius: 50%;\n",
              "      cursor: pointer;\n",
              "      display: none;\n",
              "      fill: #1967D2;\n",
              "      height: 32px;\n",
              "      padding: 0 0 0 0;\n",
              "      width: 32px;\n",
              "    }\n",
              "\n",
              "    .colab-df-convert:hover {\n",
              "      background-color: #E2EBFA;\n",
              "      box-shadow: 0px 1px 2px rgba(60, 64, 67, 0.3), 0px 1px 3px 1px rgba(60, 64, 67, 0.15);\n",
              "      fill: #174EA6;\n",
              "    }\n",
              "\n",
              "    .colab-df-buttons div {\n",
              "      margin-bottom: 4px;\n",
              "    }\n",
              "\n",
              "    [theme=dark] .colab-df-convert {\n",
              "      background-color: #3B4455;\n",
              "      fill: #D2E3FC;\n",
              "    }\n",
              "\n",
              "    [theme=dark] .colab-df-convert:hover {\n",
              "      background-color: #434B5C;\n",
              "      box-shadow: 0px 1px 3px 1px rgba(0, 0, 0, 0.15);\n",
              "      filter: drop-shadow(0px 1px 2px rgba(0, 0, 0, 0.3));\n",
              "      fill: #FFFFFF;\n",
              "    }\n",
              "  </style>\n",
              "\n",
              "    <script>\n",
              "      const buttonEl =\n",
              "        document.querySelector('#df-96b5c3c1-dc30-482c-a827-f0ed39fe2c7e button.colab-df-convert');\n",
              "      buttonEl.style.display =\n",
              "        google.colab.kernel.accessAllowed ? 'block' : 'none';\n",
              "\n",
              "      async function convertToInteractive(key) {\n",
              "        const element = document.querySelector('#df-96b5c3c1-dc30-482c-a827-f0ed39fe2c7e');\n",
              "        const dataTable =\n",
              "          await google.colab.kernel.invokeFunction('convertToInteractive',\n",
              "                                                    [key], {});\n",
              "        if (!dataTable) return;\n",
              "\n",
              "        const docLinkHtml = 'Like what you see? Visit the ' +\n",
              "          '<a target=\"_blank\" href=https://colab.research.google.com/notebooks/data_table.ipynb>data table notebook</a>'\n",
              "          + ' to learn more about interactive tables.';\n",
              "        element.innerHTML = '';\n",
              "        dataTable['output_type'] = 'display_data';\n",
              "        await google.colab.output.renderOutput(dataTable, element);\n",
              "        const docLink = document.createElement('div');\n",
              "        docLink.innerHTML = docLinkHtml;\n",
              "        element.appendChild(docLink);\n",
              "      }\n",
              "    </script>\n",
              "  </div>\n",
              "\n",
              "\n",
              "<div id=\"df-23eb6cf0-8343-4805-8ea3-5045be20e00f\">\n",
              "  <button class=\"colab-df-quickchart\" onclick=\"quickchart('df-23eb6cf0-8343-4805-8ea3-5045be20e00f')\"\n",
              "            title=\"Suggest charts\"\n",
              "            style=\"display:none;\">\n",
              "\n",
              "<svg xmlns=\"http://www.w3.org/2000/svg\" height=\"24px\"viewBox=\"0 0 24 24\"\n",
              "     width=\"24px\">\n",
              "    <g>\n",
              "        <path d=\"M19 3H5c-1.1 0-2 .9-2 2v14c0 1.1.9 2 2 2h14c1.1 0 2-.9 2-2V5c0-1.1-.9-2-2-2zM9 17H7v-7h2v7zm4 0h-2V7h2v10zm4 0h-2v-4h2v4z\"/>\n",
              "    </g>\n",
              "</svg>\n",
              "  </button>\n",
              "\n",
              "<style>\n",
              "  .colab-df-quickchart {\n",
              "      --bg-color: #E8F0FE;\n",
              "      --fill-color: #1967D2;\n",
              "      --hover-bg-color: #E2EBFA;\n",
              "      --hover-fill-color: #174EA6;\n",
              "      --disabled-fill-color: #AAA;\n",
              "      --disabled-bg-color: #DDD;\n",
              "  }\n",
              "\n",
              "  [theme=dark] .colab-df-quickchart {\n",
              "      --bg-color: #3B4455;\n",
              "      --fill-color: #D2E3FC;\n",
              "      --hover-bg-color: #434B5C;\n",
              "      --hover-fill-color: #FFFFFF;\n",
              "      --disabled-bg-color: #3B4455;\n",
              "      --disabled-fill-color: #666;\n",
              "  }\n",
              "\n",
              "  .colab-df-quickchart {\n",
              "    background-color: var(--bg-color);\n",
              "    border: none;\n",
              "    border-radius: 50%;\n",
              "    cursor: pointer;\n",
              "    display: none;\n",
              "    fill: var(--fill-color);\n",
              "    height: 32px;\n",
              "    padding: 0;\n",
              "    width: 32px;\n",
              "  }\n",
              "\n",
              "  .colab-df-quickchart:hover {\n",
              "    background-color: var(--hover-bg-color);\n",
              "    box-shadow: 0 1px 2px rgba(60, 64, 67, 0.3), 0 1px 3px 1px rgba(60, 64, 67, 0.15);\n",
              "    fill: var(--button-hover-fill-color);\n",
              "  }\n",
              "\n",
              "  .colab-df-quickchart-complete:disabled,\n",
              "  .colab-df-quickchart-complete:disabled:hover {\n",
              "    background-color: var(--disabled-bg-color);\n",
              "    fill: var(--disabled-fill-color);\n",
              "    box-shadow: none;\n",
              "  }\n",
              "\n",
              "  .colab-df-spinner {\n",
              "    border: 2px solid var(--fill-color);\n",
              "    border-color: transparent;\n",
              "    border-bottom-color: var(--fill-color);\n",
              "    animation:\n",
              "      spin 1s steps(1) infinite;\n",
              "  }\n",
              "\n",
              "  @keyframes spin {\n",
              "    0% {\n",
              "      border-color: transparent;\n",
              "      border-bottom-color: var(--fill-color);\n",
              "      border-left-color: var(--fill-color);\n",
              "    }\n",
              "    20% {\n",
              "      border-color: transparent;\n",
              "      border-left-color: var(--fill-color);\n",
              "      border-top-color: var(--fill-color);\n",
              "    }\n",
              "    30% {\n",
              "      border-color: transparent;\n",
              "      border-left-color: var(--fill-color);\n",
              "      border-top-color: var(--fill-color);\n",
              "      border-right-color: var(--fill-color);\n",
              "    }\n",
              "    40% {\n",
              "      border-color: transparent;\n",
              "      border-right-color: var(--fill-color);\n",
              "      border-top-color: var(--fill-color);\n",
              "    }\n",
              "    60% {\n",
              "      border-color: transparent;\n",
              "      border-right-color: var(--fill-color);\n",
              "    }\n",
              "    80% {\n",
              "      border-color: transparent;\n",
              "      border-right-color: var(--fill-color);\n",
              "      border-bottom-color: var(--fill-color);\n",
              "    }\n",
              "    90% {\n",
              "      border-color: transparent;\n",
              "      border-bottom-color: var(--fill-color);\n",
              "    }\n",
              "  }\n",
              "</style>\n",
              "\n",
              "  <script>\n",
              "    async function quickchart(key) {\n",
              "      const quickchartButtonEl =\n",
              "        document.querySelector('#' + key + ' button');\n",
              "      quickchartButtonEl.disabled = true;  // To prevent multiple clicks.\n",
              "      quickchartButtonEl.classList.add('colab-df-spinner');\n",
              "      try {\n",
              "        const charts = await google.colab.kernel.invokeFunction(\n",
              "            'suggestCharts', [key], {});\n",
              "      } catch (error) {\n",
              "        console.error('Error during call to suggestCharts:', error);\n",
              "      }\n",
              "      quickchartButtonEl.classList.remove('colab-df-spinner');\n",
              "      quickchartButtonEl.classList.add('colab-df-quickchart-complete');\n",
              "    }\n",
              "    (() => {\n",
              "      let quickchartButtonEl =\n",
              "        document.querySelector('#df-23eb6cf0-8343-4805-8ea3-5045be20e00f button');\n",
              "      quickchartButtonEl.style.display =\n",
              "        google.colab.kernel.accessAllowed ? 'block' : 'none';\n",
              "    })();\n",
              "  </script>\n",
              "</div>\n",
              "    </div>\n",
              "  </div>\n"
            ],
            "application/vnd.google.colaboratory.intrinsic+json": {
              "type": "dataframe",
              "variable_name": "df",
              "summary": "{\n  \"name\": \"df\",\n  \"rows\": 5,\n  \"fields\": [\n    {\n      \"column\": \"height\",\n      \"properties\": {\n        \"dtype\": \"number\",\n        \"std\": 10.807404868885037,\n        \"min\": -15.599999999999994,\n        \"max\": 12.400000000000006,\n        \"num_unique_values\": 4,\n        \"samples\": [\n          -15.599999999999994,\n          12.400000000000006,\n          4.400000000000006\n        ],\n        \"semantic_type\": \"\",\n        \"description\": \"\"\n      }\n    },\n    {\n      \"column\": \"weight\",\n      \"properties\": {\n        \"dtype\": \"number\",\n        \"std\": 13.509256086106296,\n        \"min\": -17.0,\n        \"max\": 18.0,\n        \"num_unique_values\": 5,\n        \"samples\": [\n          -17.0,\n          18.0,\n          -7.0\n        ],\n        \"semantic_type\": \"\",\n        \"description\": \"\"\n      }\n    }\n  ]\n}"
            }
          },
          "metadata": {},
          "execution_count": 13
        },
        {
          "output_type": "display_data",
          "data": {
            "text/plain": [
              "<Figure size 640x480 with 1 Axes>"
            ],
            "image/png": "[encoded data removed]"
          },
          "metadata": {}
        }
      ]
    },
    {
      "cell_type": "code",
      "source": [
        "# covariance matrix\n",
        "\n",
        "# X = (5, 2)\n",
        "# (2, 5) x (5, 2)\n",
        "\n",
        "cov = X.T @ X\n",
        "cov /= len(X) # cov = cov / len(X)\n",
        "cov # (2, 2)\n",
        "\n",
        "print(np.sqrt(cov))"
      ],
      "metadata": {
        "colab": {
          "base_uri": "https://localhost:8080/"
        },
        "id": "oCFepDaMIbfT",
        "outputId": "6e86dd73-a5a4-4208-89e2-c9a1a4ff6946"
      },
      "execution_count": 17,
      "outputs": [
        {
          "output_type": "stream",
          "name": "stdout",
          "text": [
            "[[ 9.66643678 10.52615789]\n",
            " [10.52615789 12.08304597]]\n"
          ]
        }
      ]
    },
    {
      "cell_type": "code",
      "source": [
        "# eigen value\n",
        "# Ax = 𝜇x # 𝜇 : lambda, scala\n",
        "# (Ax - 𝜇x) = 0\n",
        "# (Ax - 𝜇Ix) = 0\n",
        "# (A - 𝜇I)x = 0\n",
        "# det(A - 𝜇I) = 0\n",
        "# ## A = [[a b] [c d]]\n",
        "# ## det(A) = ad - bc\n",
        "# = 𝜇^2 - (a+d)𝜇 + ad - bc = 0\n",
        "# = 𝜇^2 - (a+d)𝜇 + det(A) = 0\n",
        "\n",
        "# A = cov\n",
        "print(cov.diagonal().sum()) # (a+d)\n",
        "print(np.linalg.det(cov))\n",
        "\n",
        "# = 𝜇^2 - 239.44*𝜇 + 1365.6"
      ],
      "metadata": {
        "colab": {
          "base_uri": "https://localhost:8080/"
        },
        "id": "sapDZg5RIf_l",
        "outputId": "db1b75ca-4035-4582-9bff-670bf0bd48c9"
      },
      "execution_count": 20,
      "outputs": [
        {
          "output_type": "stream",
          "name": "stdout",
          "text": [
            "239.44\n",
            "1365.6000000000015\n"
          ]
        }
      ]
    },
    {
      "cell_type": "code",
      "source": [
        "# e_value_1 = (239.44 + np.sqrt(239.44^2 - 4*1365.6)) / 2\n",
        "# e_value_2 = (239.44 - np.sqrt(239.44^2 - 4*1365.6)) / 2\n",
        "\n",
        "e1 = (cov.diagonal().sum() + np.sqrt(cov.diagonal().sum()**2 - 4*np.linalg.det(cov))) / 2\n",
        "e2 = (cov.diagonal().sum() - np.sqrt(cov.diagonal().sum()**2 - 4*np.linalg.det(cov))) / 2\n",
        "\n",
        "print(e1, e2)"
      ],
      "metadata": {
        "colab": {
          "base_uri": "https://localhost:8080/"
        },
        "id": "C7DzMxisIf29",
        "outputId": "b7eeea7d-0ba6-4290-fafa-f4640dad4eb2"
      },
      "execution_count": 22,
      "outputs": [
        {
          "output_type": "stream",
          "name": "stdout",
          "text": [
            "233.59395839260176 5.846041607398234\n"
          ]
        }
      ]
    },
    {
      "cell_type": "code",
      "source": [
        "print(e1 / sum([e1, e2]))\n",
        "print(e2 / sum([e1, e2]))"
      ],
      "metadata": {
        "colab": {
          "base_uri": "https://localhost:8080/"
        },
        "id": "QbHb-LM5MENP",
        "outputId": "4113b50e-ca5c-4d72-c79c-d0d0f5125911"
      },
      "execution_count": 23,
      "outputs": [
        {
          "output_type": "stream",
          "name": "stdout",
          "text": [
            "0.9755845238581764\n",
            "0.024415476141823565\n"
          ]
        }
      ]
    },
    {
      "cell_type": "code",
      "source": [
        "# (A - 𝜇I)x = 0 # 𝜇1 = 233.593..., 𝜇2 = 5.846...\n",
        "# (cov - 𝜇1*I)x = 0\n",
        "# (cov - 𝜇1*I)x @ eigenvector1 = 0\n",
        "# (cov - 𝜇2*I)x @ eigenvector2 = 0"
      ],
      "metadata": {
        "id": "6kf6hItOMQSn"
      },
      "execution_count": 24,
      "outputs": []
    },
    {
      "cell_type": "code",
      "source": [
        "cov"
      ],
      "metadata": {
        "colab": {
          "base_uri": "https://localhost:8080/"
        },
        "id": "vHx3E60RMp5w",
        "outputId": "d98aa404-0da5-4a62-9e95-4f1b2b465c0f"
      },
      "execution_count": 25,
      "outputs": [
        {
          "output_type": "execute_result",
          "data": {
            "text/plain": [
              "array([[ 93.44, 110.8 ],\n",
              "       [110.8 , 146.  ]])"
            ]
          },
          "metadata": {},
          "execution_count": 25
        }
      ]
    },
    {
      "cell_type": "code",
      "source": [
        "# cov = [[93.44 110.8] [110.8 146.]]\n",
        "# (cov - 233.59I) x = 0\n",
        "# [93.44-233.59 110.8] @ [x1 x2] = 0\n",
        "# (93.44-233.59)*x1 + 110.8*x2 = 0\n",
        "# a*x2 + b*x2 = 0\n",
        "# x1 = -b\n",
        "# x2 = a\n",
        "# a*(-b) + b*(a) = 0\n",
        "\n",
        "# print(e1)\n",
        "# print(np.eye(2))\n",
        "# print(e1*np.eye(2))\n",
        "\n",
        "cov_eig = cov - e1 * np.eye(2)\n",
        "cov_eig\n",
        "\n",
        "ev1 = np.array([cov_eig[0][1], cov_eig[0][0]])\n",
        "print(ev1)\n",
        "\n",
        "print(cov_eig @ ev1) # 0 vector"
      ],
      "metadata": {
        "colab": {
          "base_uri": "https://localhost:8080/"
        },
        "id": "UgiRct46Mqy9",
        "outputId": "bc84c95c-acec-40b4-8002-e06955bcba0d"
      },
      "execution_count": 30,
      "outputs": [
        {
          "output_type": "stream",
          "name": "stdout",
          "text": [
            "[ 110.8        -140.15395839]\n",
            "[-31058.1171798  24553.28     ]\n"
          ]
        }
      ]
    },
    {
      "cell_type": "code",
      "source": [
        "cov_e2 = cov - e2 * np.eye(2)\n",
        "\n",
        "ev2 = np.array([-cov_e2[0][1], cov_e2[0][0]])\n",
        "ev2"
      ],
      "metadata": {
        "colab": {
          "base_uri": "https://localhost:8080/"
        },
        "id": "Jbn7wbIwN9ZI",
        "outputId": "2e0d8162-1b91-4ca1-8720-1d1d5fecd367"
      },
      "execution_count": 31,
      "outputs": [
        {
          "output_type": "execute_result",
          "data": {
            "text/plain": [
              "array([-110.8       ,   87.59395839])"
            ]
          },
          "metadata": {},
          "execution_count": 31
        }
      ]
    },
    {
      "cell_type": "code",
      "source": [
        "print(ev1, ev2)"
      ],
      "metadata": {
        "colab": {
          "base_uri": "https://localhost:8080/"
        },
        "id": "c7-J2VuXY6Qe",
        "outputId": "b2d7b11d-5160-4264-c9d9-6c6b5fbbdaf9"
      },
      "execution_count": 32,
      "outputs": [
        {
          "output_type": "stream",
          "name": "stdout",
          "text": [
            "[ 110.8        -140.15395839] [-110.8          87.59395839]\n"
          ]
        }
      ]
    },
    {
      "cell_type": "code",
      "source": [
        "ev1_norm = ev1 / np.linalg.norm(ev1)\n",
        "print(ev1_norm)\n",
        "print(np.linalg.norm(ev1_norm))"
      ],
      "metadata": {
        "colab": {
          "base_uri": "https://localhost:8080/"
        },
        "id": "0QdcyOXFY8Pd",
        "outputId": "4ab6670a-3584-40e4-d3df-8b1da204937f"
      },
      "execution_count": 33,
      "outputs": [
        {
          "output_type": "stream",
          "name": "stdout",
          "text": [
            "[ 0.62016874 -0.78446844]\n",
            "1.0\n"
          ]
        }
      ]
    },
    {
      "cell_type": "code",
      "source": [
        "print(np.linalg.norm(ev2))\n",
        "ev2_norm = ev2 / np.linalg.norm(ev2)\n",
        "print(ev2_norm)\n",
        "print(np.linalg.norm(ev2_norm))"
      ],
      "metadata": {
        "colab": {
          "base_uri": "https://localhost:8080/"
        },
        "id": "Fn_wdMHxZJWF",
        "outputId": "1f4a4b6e-af83-4b94-e9c1-1b05e32dcd68"
      },
      "execution_count": 35,
      "outputs": [
        {
          "output_type": "stream",
          "name": "stdout",
          "text": [
            "141.24213800026126\n",
            "[-0.78446844  0.62016874]\n",
            "1.0\n"
          ]
        }
      ]
    },
    {
      "cell_type": "code",
      "source": [
        "# SVD\n",
        "\n",
        "e_value, e_vector = np.linalg.eig(cov) # SVD\n",
        "e_vector = e_vector.T\n",
        "print(e_value)\n",
        "print(e_vector)"
      ],
      "metadata": {
        "colab": {
          "base_uri": "https://localhost:8080/"
        },
        "id": "eqsvOruUZTu-",
        "outputId": "3e545f1c-eee6-4967-8318-6cbc5a960c5a"
      },
      "execution_count": 40,
      "outputs": [
        {
          "output_type": "stream",
          "name": "stdout",
          "text": [
            "[  5.84604161 233.59395839]\n",
            "[[-0.78446844  0.62016874]\n",
            " [-0.62016874 -0.78446844]]\n"
          ]
        }
      ]
    },
    {
      "cell_type": "code",
      "source": [
        "print(e1, e2)\n",
        "print(ev1_norm, ev2_norm)"
      ],
      "metadata": {
        "colab": {
          "base_uri": "https://localhost:8080/"
        },
        "id": "QrP7KS2EZo4G",
        "outputId": "346d6181-cfcf-4322-e50d-22ea79ed78cf"
      },
      "execution_count": 41,
      "outputs": [
        {
          "output_type": "stream",
          "name": "stdout",
          "text": [
            "233.59395839260176 5.846041607398234\n",
            "[ 0.62016874 -0.78446844] [-0.78446844  0.62016874]\n"
          ]
        }
      ]
    },
    {
      "cell_type": "code",
      "source": [
        "e_vector[0].T @ e_vector[1]"
      ],
      "metadata": {
        "colab": {
          "base_uri": "https://localhost:8080/"
        },
        "id": "qDKwRpXGZqar",
        "outputId": "d94d7168-ad8f-4cce-8e6d-e3ad329db2e8"
      },
      "execution_count": 42,
      "outputs": [
        {
          "output_type": "execute_result",
          "data": {
            "text/plain": [
              "0.0"
            ]
          },
          "metadata": {},
          "execution_count": 42
        }
      ]
    },
    {
      "cell_type": "code",
      "source": [
        "plt.figure(figsize=(8, 8))\n",
        "plt.xlim((-20, 20))\n",
        "plt.ylim((-20, 20))\n",
        "\n",
        "# eigen vector 1\n",
        "x = [-e_value[1]*e_vector[1][1], e_value[1]*e_vector[1][1]] # (weight1, weight2)\n",
        "y = [-e_value[1]*e_vector[1][0], e_value[1]*e_vector[1][0]] # (height1, height2)\n",
        "print(x, y)\n",
        "plt.plot(x, y, 'r--')\n",
        "\n",
        "# eigen vector 2\n",
        "x = [-e_value[0]*e_vector[0][1], e_value[0]*e_vector[0][1]] # (weight1, weight2)\n",
        "y = [-e_value[0]*e_vector[0][0], e_value[0]*e_vector[0][0]] # (height1, height2)\n",
        "print(x, y)\n",
        "plt.plot(x, y, 'g--')\n",
        "\n",
        "plt.scatter(df['weight'], df['height'])"
      ],
      "metadata": {
        "colab": {
          "base_uri": "https://localhost:8080/",
          "height": 756
        },
        "id": "JPzY2No5aAm_",
        "outputId": "04a152ab-a109-4619-ed3d-ef4518f5d693"
      },
      "execution_count": 49,
      "outputs": [
        {
          "output_type": "stream",
          "name": "stdout",
          "text": [
            "[183.2470886970884, -183.2470886970884] [144.8676702427632, -144.8676702427632]\n",
            "[-3.6255322425019676, 3.6255322425019676] [4.586035154031201, -4.586035154031201]\n"
          ]
        },
        {
          "output_type": "execute_result",
          "data": {
            "text/plain": [
              "<matplotlib.collections.PathCollection at 0x7fd93176a860>"
            ]
          },
          "metadata": {},
          "execution_count": 49
        },
        {
          "output_type": "display_data",
          "data": {
            "text/plain": [
              "<Figure size 800x800 with 1 Axes>"
            ],
            "image/png": "[encoded data removed]"
          },
          "metadata": {}
        }
      ]
    },
    {
      "cell_type": "code",
      "source": [
        "list(X @ -e_vector[1].T)"
      ],
      "metadata": {
        "colab": {
          "base_uri": "https://localhost:8080/"
        },
        "id": "P0PEhJsWauLF",
        "outputId": "0f1a03fd-a17d-4cc4-a3a7-56d9fc3afb19"
      },
      "execution_count": 52,
      "outputs": [
        {
          "output_type": "execute_result",
          "data": {
            "text/plain": [
              "[9.004489983896276,\n",
              " -23.010595824587238,\n",
              " -8.96422402637538,\n",
              " 1.1598055597766808,\n",
              " 21.810524307289683]"
            ]
          },
          "metadata": {},
          "execution_count": 52
        }
      ]
    },
    {
      "cell_type": "code",
      "source": [
        "X"
      ],
      "metadata": {
        "colab": {
          "base_uri": "https://localhost:8080/"
        },
        "id": "pXhMNdsgdQsu",
        "outputId": "f546d688-2160-4435-9cc1-f677b0d81b87"
      },
      "execution_count": 53,
      "outputs": [
        {
          "output_type": "execute_result",
          "data": {
            "text/plain": [
              "array([[  4.4,   8. ],\n",
              "       [-15.6, -17. ],\n",
              "       [ -5.6,  -7. ],\n",
              "       [  4.4,  -2. ],\n",
              "       [ 12.4,  18. ]])"
            ]
          },
          "metadata": {},
          "execution_count": 53
        }
      ]
    }
  ]
}